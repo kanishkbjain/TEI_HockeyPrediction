{
 "cells": [
  {
   "cell_type": "code",
   "execution_count": 1,
   "id": "787e4228",
   "metadata": {},
   "outputs": [],
   "source": [
    "import numpy as np\n",
    "import pandas as pd\n",
    "import matplotlib.pyplot as plt"
   ]
  },
  {
   "cell_type": "code",
   "execution_count": 14,
   "id": "e338fac6",
   "metadata": {},
   "outputs": [],
   "source": [
    "Traindf = pd.read_csv('20202021_traing.csv')\n",
    "Traindf = Traindf.drop(['Unnamed: 0'], axis=1)"
   ]
  },
  {
   "cell_type": "code",
   "execution_count": 16,
   "id": "12423545",
   "metadata": {},
   "outputs": [],
   "source": [
    "Traindf = Traindf.dropna() # Drop the rows where at least one element is missing.\n",
    "columns_name = Traindf.columns\n",
    "TrainX_array = Traindf[columns_name[:-2]].to_numpy()\n",
    "TrainY_array = Traindf[columns_name[-1]].to_numpy()"
   ]
  },
  {
   "cell_type": "markdown",
   "id": "6a726b98",
   "metadata": {},
   "source": [
    "home wins are much smaller than away wins"
   ]
  },
  {
   "cell_type": "code",
   "execution_count": 12,
   "id": "af75bb48",
   "metadata": {},
   "outputs": [
    {
     "data": {
      "text/plain": [
       "0.38169642857142855"
      ]
     },
     "execution_count": 12,
     "metadata": {},
     "output_type": "execute_result"
    }
   ],
   "source": [
    "sum(TrainY_array)/len(TrainY_array)"
   ]
  },
  {
   "cell_type": "code",
   "execution_count": 5,
   "id": "cbc1eeda",
   "metadata": {},
   "outputs": [],
   "source": [
    "from sklearn.model_selection import train_test_split\n",
    "\n",
    "X_train, X_test, y_train, y_test = train_test_split(TrainX_array,TrainY_array,\n",
    "                                                       test_size=.2,\n",
    "                                                       shuffle=True,\n",
    "                                                       random_state=2020,\n",
    "                                                       stratify=TrainY_array)"
   ]
  },
  {
   "cell_type": "code",
   "execution_count": 6,
   "id": "24e5bef7",
   "metadata": {},
   "outputs": [],
   "source": [
    "X_train_train, X_val, y_train_train, y_val = train_test_split(X_train, y_train,\n",
    "                                                                 test_size=.2,\n",
    "                                                                   shuffle=True,\n",
    "                                                                   random_state=2021,\n",
    "                                                                   stratify=y_train)"
   ]
  },
  {
   "cell_type": "code",
   "execution_count": 7,
   "id": "629031cc",
   "metadata": {},
   "outputs": [],
   "source": [
    "from sklearn.neural_network import MLPClassifier\n",
    "from sklearn.metrics import accuracy_score"
   ]
  },
  {
   "cell_type": "code",
   "execution_count": 8,
   "id": "f27204c7",
   "metadata": {},
   "outputs": [],
   "source": [
    "layers = [(100,), (1000,), (100, 200),(1000, 2000),(1000, 2000, 1000)]"
   ]
  },
  {
   "cell_type": "code",
   "execution_count": 9,
   "id": "9b86b3de",
   "metadata": {},
   "outputs": [
    {
     "name": "stdout",
     "output_type": "stream",
     "text": [
      "Working with structure (100,)\n",
      "With structure (100,), the training accuracy is 61.89\n",
      "With structure (100,), the vaidation accuracy is 61.81\n",
      "\n",
      "\n",
      "Working with structure (1000,)\n",
      "With structure (1000,), the training accuracy is 62.59\n",
      "With structure (1000,), the vaidation accuracy is 61.81\n",
      "\n",
      "\n",
      "Working with structure (100, 200)\n",
      "With structure (100, 200), the training accuracy is 64.51\n",
      "With structure (100, 200), the vaidation accuracy is 63.19\n",
      "\n",
      "\n",
      "Working with structure (1000, 2000)\n",
      "With structure (1000, 2000), the training accuracy is 62.41\n",
      "With structure (1000, 2000), the vaidation accuracy is 63.89\n",
      "\n",
      "\n",
      "Working with structure (1000, 2000, 1000)\n",
      "With structure (1000, 2000, 1000), the training accuracy is 61.89\n",
      "With structure (1000, 2000, 1000), the vaidation accuracy is 61.81\n",
      "\n",
      "\n"
     ]
    }
   ],
   "source": [
    "for l in layers:\n",
    "    print(f'Working with structure {l}')\n",
    "    mlp = MLPClassifier(hidden_layer_sizes=l, max_iter=5000)\n",
    "    mlp.fit(X_train_train, y_train_train)\n",
    "    print(f\"With structure {l}, the training accuracy is\",\n",
    "         np.round(100*accuracy_score(y_train_train, mlp.predict(X_train_train)),2))\n",
    "    print(f\"With structure {l}, the vaidation accuracy is\",\n",
    "         np.round(100*accuracy_score(y_val, mlp.predict(X_val)),2))\n",
    "    \n",
    "    print()\n",
    "    print()"
   ]
  },
  {
   "cell_type": "code",
   "execution_count": 10,
   "id": "75c77cdf",
   "metadata": {},
   "outputs": [],
   "source": [
    "layers = [(100,), (100, 200), (100, 200, 100), (100, 200, 100, 200), (100, 200, 100, 200, 100)]"
   ]
  },
  {
   "cell_type": "code",
   "execution_count": 11,
   "id": "86681d8f",
   "metadata": {},
   "outputs": [
    {
     "name": "stdout",
     "output_type": "stream",
     "text": [
      "Working with structure (100,)\n",
      "With structure (100,), the training accuracy is 58.22\n",
      "With structure (100,), the vaidation accuracy is 56.94\n",
      "\n",
      "\n",
      "Working with structure (100, 200)\n",
      "With structure (100, 200), the training accuracy is 62.41\n",
      "With structure (100, 200), the vaidation accuracy is 63.19\n",
      "\n",
      "\n",
      "Working with structure (100, 200, 100)\n",
      "With structure (100, 200, 100), the training accuracy is 63.64\n",
      "With structure (100, 200, 100), the vaidation accuracy is 63.89\n",
      "\n",
      "\n",
      "Working with structure (100, 200, 100, 200)\n",
      "With structure (100, 200, 100, 200), the training accuracy is 62.94\n",
      "With structure (100, 200, 100, 200), the vaidation accuracy is 63.19\n",
      "\n",
      "\n",
      "Working with structure (100, 200, 100, 200, 100)\n",
      "With structure (100, 200, 100, 200, 100), the training accuracy is 62.06\n",
      "With structure (100, 200, 100, 200, 100), the vaidation accuracy is 63.19\n",
      "\n",
      "\n"
     ]
    }
   ],
   "source": [
    "for l in layers:\n",
    "    print(f'Working with structure {l}')\n",
    "    mlp = MLPClassifier(hidden_layer_sizes=l, max_iter=5000)\n",
    "    mlp.fit(X_train_train, y_train_train)\n",
    "    print(f\"With structure {l}, the training accuracy is\",\n",
    "         np.round(100*accuracy_score(y_train_train, mlp.predict(X_train_train)),2))\n",
    "    print(f\"With structure {l}, the vaidation accuracy is\",\n",
    "         np.round(100*accuracy_score(y_val, mlp.predict(X_val)),2))\n",
    "    \n",
    "    print()\n",
    "    print()"
   ]
  },
  {
   "cell_type": "code",
   "execution_count": null,
   "id": "5c17e39a",
   "metadata": {},
   "outputs": [],
   "source": []
  }
 ],
 "metadata": {
  "kernelspec": {
   "display_name": "Python 3",
   "language": "python",
   "name": "python3"
  },
  "language_info": {
   "codemirror_mode": {
    "name": "ipython",
    "version": 3
   },
   "file_extension": ".py",
   "mimetype": "text/x-python",
   "name": "python",
   "nbconvert_exporter": "python",
   "pygments_lexer": "ipython3",
   "version": "3.8.8"
  }
 },
 "nbformat": 4,
 "nbformat_minor": 5
}
