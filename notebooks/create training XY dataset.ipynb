{
 "cells": [
  {
   "cell_type": "code",
   "execution_count": 1,
   "id": "c11e1fb8",
   "metadata": {},
   "outputs": [],
   "source": [
    "import numpy as np\n",
    "import pandas as pd\n",
    "import matplotlib.pyplot as plt\n",
    "import json"
   ]
  },
  {
   "cell_type": "code",
   "execution_count": 2,
   "id": "d0d8c66e",
   "metadata": {},
   "outputs": [],
   "source": [
    "## from notebook creat_trainXY_dataset; modified version\n",
    "\n",
    "def tmstats_home_away_before(tmdf, home_tm, away_tm, gameyear, nyear = 2):\n",
    "    subdf_home = pd.DataFrame()\n",
    "    subdf_away = pd.DataFrame()\n",
    "    \n",
    "    for i in range(nyear):\n",
    "        want_year_str = str(gameyear-i-1)+'_'+str(gameyear-i)\n",
    "        \n",
    "        subdf_home = pd.concat([subdf_home, tmdf.loc[(tmstats['year'] == want_year_str) & \n",
    "                                           (tmdf['TeamAbbrevs'] == home_tm)]], \n",
    "                               ignore_index=True\n",
    "                              )\n",
    "        \n",
    "        subdf_away = pd.concat([subdf_away, tmdf.loc[(tmstats['year'] == want_year_str) & \n",
    "                                           (tmdf['TeamAbbrevs'] == away_tm)]], \n",
    "                               ignore_index=True\n",
    "                              )\n",
    "        \n",
    "    return subdf_home, subdf_away\n",
    "\n",
    "def one_X_Y(game, tmstats_all, column, nyear = 2, gamma_list = [0.9]):\n",
    "    \"\"\"\n",
    "    input gamma: should be a (n,) list\n",
    "    \"\"\"\n",
    "    gameyear = int(game['GamePK']*1e-6)\n",
    "#     print(gameyear)\n",
    "    \n",
    "    home_name = game['Abbrevs'][0]\n",
    "    away_name = game['Abbrevs'][1]\n",
    "#     print(home_name, away_name)\n",
    "    \n",
    "    subdf_home, subdf_away = tmstats_home_away_before(tmstats_all, \n",
    "                                                      home_name, \n",
    "                                                      away_name, \n",
    "                                                      gameyear,\n",
    "                                                      nyear)\n",
    "    \n",
    "    if subdf_home.empty:\n",
    "#         print('empty')\n",
    "        home_wavg = np.array([[np.nan for i in range(len(column))] \n",
    "                              for j in range(len(gamma_list))\n",
    "                             ])\n",
    "    else:\n",
    "        home_array = np.array([subdf_home[column].to_numpy() \n",
    "                               for j in range(len(gamma_list))])\n",
    "        gamma_array = np.array([[np.power(gamma, i+1) \n",
    "                                 for i in range(home_array.shape[1])\n",
    "                                ] for gamma in gamma_list\n",
    "                               ])\n",
    "\n",
    "        ## now the function only weighting the existing year, not take account those year without data\n",
    "        home_wavg = [np.average(home_array[i], axis=0, weights = gamma_array[i])\n",
    "                     for i in range(len(gamma_list))]\n",
    "    \n",
    "    if subdf_away.empty:\n",
    "        away_wavg = np.array([[np.nan for i in range(len(column))] \n",
    "                              for j in range(len(gamma_list))\n",
    "                             ])\n",
    "    else:\n",
    "        away_array = np.array([subdf_away[column].to_numpy() \n",
    "                               for j in range(len(gamma_list))])\n",
    "        gamma_array = np.array([[np.power(gamma, i+1) \n",
    "                                 for i in range(away_array.shape[1])\n",
    "                                ] for gamma in gamma_list\n",
    "                               ])\n",
    "        away_wavg = [np.average(away_array[i], axis=0, weights = gamma_array[i]) \n",
    "                     for i in range(len(gamma_list))]\n",
    "        \n",
    "#     if home_wavg.all() == np.nan or away_wavg.all() == np.nan:\n",
    "#         print('yes empty')\n",
    "        \n",
    "    \n",
    "    sample_X = np.concatenate((home_wavg, away_wavg), axis = 1)\n",
    "    sample_Y = game['Winner']\n",
    "    return sample_X, sample_Y"
   ]
  },
  {
   "cell_type": "markdown",
   "id": "613606b1",
   "metadata": {},
   "source": [
    "# Generate training X and training Y data"
   ]
  },
  {
   "cell_type": "code",
   "execution_count": 3,
   "id": "c40cdf24",
   "metadata": {},
   "outputs": [],
   "source": [
    "tmstats = pd.read_csv('../tmstats_allyears.csv')\n",
    "tmstats['W/GP'] = tmstats['W']/tmstats['GP']\n",
    "tmstats['P/GP'] = tmstats['PTS']/tmstats['GP']"
   ]
  },
  {
   "cell_type": "markdown",
   "id": "a0f8c573",
   "metadata": {},
   "source": [
    "#### initial setting/ hyperparameters"
   ]
  },
  {
   "cell_type": "code",
   "execution_count": 4,
   "id": "eb959d5f",
   "metadata": {},
   "outputs": [],
   "source": [
    "# see_column = np.array(['AvAge', 'W/GP', 'P/GP', 'W', 'PTS', 'GF/G', 'GA/G',\n",
    "#                        'SRS', 'SOS', 'PP%', 'PPA'])\n",
    "\n",
    "## now just collect all features, then select informative features.\n",
    "\n",
    "see_column = np.array(['AvAge', 'GP', 'W', 'L', 'OL', 'PTS', 'PTS%', 'GF', 'GA',\n",
    "       'SOW', 'SOL', 'SRS', 'SOS', 'GF/G', 'GA/G', 'PP', 'PPO', 'PP%', 'PPA',\n",
    "       'PPOA', 'PK%', 'SH', 'SHA', 'PIM/G', 'oPIM/G', 'S', 'S%', 'SA', 'SV%',\n",
    "       'SO', '5v5 TOI/GP', 'SAT%', 'Hits', 'Hits/60', 'BkS', 'BkS/60', 'GvA',\n",
    "       'GvA/60', 'TkA', 'TkA/60', 'ENG', 'MsS', 'W/GP', 'P/GP'])\n",
    "\n",
    "# see_column = np.array(['AvAge', 'GP'])\n",
    "column_home = np.array([i+'_H' for i in see_column])\n",
    "column_away = np.array([i+'_A' for i in see_column])\n",
    "\n",
    "column_name = np.concatenate((column_home,column_away))\n",
    "column_name = np.concatenate((column_name,['class']))\n",
    "\n",
    "g_list = np.array([0.9, 0.8, 0.7, 0.6, 0.5, 0.4, 0.3, 0.2, 0.1])\n",
    "# g_list = np.array([0.9, 0.8])\n",
    "n_year = 5"
   ]
  },
  {
   "cell_type": "code",
   "execution_count": 5,
   "id": "3ed062e6",
   "metadata": {},
   "outputs": [
    {
     "data": {
      "text/plain": [
       "array(['AvAge_H', 'GP_H', 'W_H', 'L_H', 'OL_H', 'PTS_H', 'PTS%_H', 'GF_H',\n",
       "       'GA_H', 'SOW_H', 'SOL_H', 'SRS_H', 'SOS_H', 'GF/G_H', 'GA/G_H',\n",
       "       'PP_H', 'PPO_H', 'PP%_H', 'PPA_H', 'PPOA_H', 'PK%_H', 'SH_H',\n",
       "       'SHA_H', 'PIM/G_H', 'oPIM/G_H', 'S_H', 'S%_H', 'SA_H', 'SV%_H',\n",
       "       'SO_H', '5v5 TOI/GP_H', 'SAT%_H', 'Hits_H', 'Hits/60_H', 'BkS_H',\n",
       "       'BkS/60_H', 'GvA_H', 'GvA/60_H', 'TkA_H', 'TkA/60_H', 'ENG_H',\n",
       "       'MsS_H', 'W/GP_H', 'P/GP_H', 'AvAge_A', 'GP_A', 'W_A', 'L_A',\n",
       "       'OL_A', 'PTS_A', 'PTS%_A', 'GF_A', 'GA_A', 'SOW_A', 'SOL_A',\n",
       "       'SRS_A', 'SOS_A', 'GF/G_A', 'GA/G_A', 'PP_A', 'PPO_A', 'PP%_A',\n",
       "       'PPA_A', 'PPOA_A', 'PK%_A', 'SH_A', 'SHA_A', 'PIM/G_A', 'oPIM/G_A',\n",
       "       'S_A', 'S%_A', 'SA_A', 'SV%_A', 'SO_A', '5v5 TOI/GP_A', 'SAT%_A',\n",
       "       'Hits_A', 'Hits/60_A', 'BkS_A', 'BkS/60_A', 'GvA_A', 'GvA/60_A',\n",
       "       'TkA_A', 'TkA/60_A', 'ENG_A', 'MsS_A', 'W/GP_A', 'P/GP_A', 'class'],\n",
       "      dtype='<U12')"
      ]
     },
     "execution_count": 5,
     "metadata": {},
     "output_type": "execute_result"
    }
   ],
   "source": [
    "column_name"
   ]
  },
  {
   "cell_type": "code",
   "execution_count": 6,
   "id": "a7a95f85",
   "metadata": {},
   "outputs": [
    {
     "name": "stdout",
     "output_type": "stream",
     "text": [
      "20202021\n",
      "20192020\n",
      "20182019\n",
      "20172018\n",
      "20162017\n",
      "20152016\n",
      "20142015\n"
     ]
    }
   ],
   "source": [
    "# since we only have 2009 - 2021 tmstats, if n_year = 5\n",
    "# then training dataset only consider down to 2014\n",
    "a = 20212022\n",
    "for i in range(7):\n",
    "    a = a - 10001\n",
    "    print(a)"
   ]
  },
  {
   "cell_type": "code",
   "execution_count": 7,
   "id": "cae334cc",
   "metadata": {},
   "outputs": [
    {
     "name": "stdout",
     "output_type": "stream",
     "text": [
      "creating dataset 20202021\n",
      "creating dataset 20192020\n",
      "creating dataset 20182019\n",
      "creating dataset 20172018\n",
      "creating dataset 20162017\n",
      "creating dataset 20152016\n",
      "creating dataset 20142015\n"
     ]
    }
   ],
   "source": [
    "# Traindf = pd.DataFrame()\n",
    "\n",
    "a = 20212022\n",
    "for i in range(7):\n",
    "    a = a - 10001\n",
    "    filename = '../winner_home_or_away/'+str(a)+'_winner.json'\n",
    "    f = open(filename)\n",
    "    print(f'creating dataset {a}')\n",
    "    season_data = json.load(f)\n",
    "    TrainX = []\n",
    "    TrainY = []\n",
    "    for game in season_data:\n",
    "#         n_year = 5\n",
    "        sample_X, sample_Y = one_X_Y(game, tmstats, column = see_column, \n",
    "                                     nyear = n_year, gamma_list = g_list)\n",
    "        TrainX.append(sample_X)\n",
    "        TrainY.append(sample_Y)\n",
    "    TrainX = np.array(TrainX)\n",
    "    TrainY = np.array([TrainY])\n",
    "    \n",
    "    # now the TrainX contains all dataset with respect to each dataset\n",
    "    for i, g in enumerate(g_list):\n",
    "        Traindf = pd.DataFrame()\n",
    "        save_file = str(a)+'_'+str(g)+'.csv'\n",
    "        Xnow = TrainX[:, i, :]\n",
    "        dataset = np.concatenate((Xnow, TrainY.T), axis = 1)\n",
    "        \n",
    "        df = pd.DataFrame(dataset, columns=column_name)\n",
    "        Traindf = pd.concat([Traindf, df], ignore_index=True)\n",
    "        Traindf.to_csv(save_file, index = False)\n",
    "    \n",
    "#         print(dataset)\n",
    "    f.close()"
   ]
  },
  {
   "cell_type": "code",
   "execution_count": null,
   "id": "61364c25",
   "metadata": {},
   "outputs": [],
   "source": [
    "XY_folder = \"trainXY/\"\n",
    "\n",
    "for g in g_list:\n",
    "    a = 20212022\n",
    "    TrainXY = pd.DataFrame()\n",
    "    for i in range(7):\n",
    "        a = a - 10001\n",
    "        filename = str(a)+'_'+str(g)+'.csv'\n",
    "        dfnow = pd.read_csv(XY_folder+filename)\n",
    "        \n",
    "        TrainXY = pd.concat([TrainXY,dfnow], ignore_index=True)\n",
    "        savename = str(20142021)+'_'+str(g)+'.csv'\n",
    "        TrainXY.to_csv(savename, index = False)"
   ]
  }
 ],
 "metadata": {
  "kernelspec": {
   "display_name": "Python 3",
   "language": "python",
   "name": "python3"
  },
  "language_info": {
   "codemirror_mode": {
    "name": "ipython",
    "version": 3
   },
   "file_extension": ".py",
   "mimetype": "text/x-python",
   "name": "python",
   "nbconvert_exporter": "python",
   "pygments_lexer": "ipython3",
   "version": "3.8.8"
  }
 },
 "nbformat": 4,
 "nbformat_minor": 5
}
