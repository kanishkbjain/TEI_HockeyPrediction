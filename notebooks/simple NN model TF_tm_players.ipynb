{
 "cells": [
  {
   "cell_type": "code",
   "execution_count": 1,
   "id": "c11e1fb8",
   "metadata": {},
   "outputs": [],
   "source": [
    "#allows drawing digrams in jupyeter notebooks\n",
    "%matplotlib inline\n",
    "#loading tensorboard\n",
    "%load_ext tensorboard\n",
    "import numpy as np\n",
    "import pandas as pd\n",
    "import matplotlib.pyplot as plt\n",
    "\n",
    "#specific tensorflow libraries\n",
    "import tensorflow as tf\n",
    "from tensorflow.keras import optimizers, metrics\n",
    "from tensorflow.keras.models import Sequential\n",
    "from tensorflow.keras import layers"
   ]
  },
  {
   "cell_type": "code",
   "execution_count": 2,
   "id": "8ddf67cb",
   "metadata": {},
   "outputs": [],
   "source": [
    "import os\n",
    "os.environ['TF_CPP_MIN_LOG_LEVEL'] = '2'"
   ]
  },
  {
   "cell_type": "code",
   "execution_count": 3,
   "id": "276c70cf",
   "metadata": {},
   "outputs": [],
   "source": [
    "import datetime"
   ]
  },
  {
   "cell_type": "code",
   "execution_count": 4,
   "id": "23f3f563",
   "metadata": {},
   "outputs": [],
   "source": [
    "from pandas.plotting import scatter_matrix"
   ]
  },
  {
   "cell_type": "code",
   "execution_count": 5,
   "id": "30b6b262",
   "metadata": {},
   "outputs": [],
   "source": [
    "from sklearn.model_selection import train_test_split\n",
    "from sklearn.metrics import accuracy_score\n",
    "from sklearn.preprocessing import StandardScaler\n",
    "from sklearn.decomposition import PCA"
   ]
  },
  {
   "cell_type": "code",
   "execution_count": 6,
   "id": "1948e2f2",
   "metadata": {},
   "outputs": [],
   "source": [
    "def Train_Test_XY_normalize_PCA(TrainX, TrainY, TestX, PCA_n = None):\n",
    "    \n",
    "    # normalize data\n",
    "    scaler_new = StandardScaler()\n",
    "    scaler_new.fit(TrainX)\n",
    "    X_train_scale = scaler_new.transform(TrainX)\n",
    "    X_test_scale_list = [scaler_new.transform(TestX_now) for TestX_now in TestX]\n",
    "\n",
    "    print(f'X shape {X_train_scale.shape}')\n",
    "    \n",
    "    if PCA_n != None:\n",
    "        # dimension reduction\n",
    "        TrainX_PCA = Train_Test_XY_PCA(X_train_scale, PCA_n = PCA_n)\n",
    "        print(f'X shape {TrainX_PCA.shape}')\n",
    "    \n",
    "        # normalize again\n",
    "        scaler_new = StandardScaler()\n",
    "        scaler_new.fit(TrainX_PCA)\n",
    "        X_train_scale = scaler_new.transform(TrainX_PCA)\n",
    "        \n",
    "    \n",
    "    X_train, X_val, y_train, y_val = train_test_split(X_train_scale,TrainY,\n",
    "                                                       test_size=.2,\n",
    "                                                       shuffle=True,\n",
    "                                                       random_state=2020,\n",
    "                                                       stratify=TrainY)\n",
    "    \n",
    "    \n",
    "    return X_train, X_val, y_train, y_val, X_test_scale_list"
   ]
  },
  {
   "cell_type": "code",
   "execution_count": 7,
   "id": "d2f024c6",
   "metadata": {},
   "outputs": [],
   "source": [
    "import tensorflow.keras.backend as Kb\n",
    "\n",
    "# Write a custom loss function\n",
    "def custom_loss(y_true, y_pred):\n",
    "    binary_crossentropy = Kb.mean(Kb.binary_crossentropy(y_true, y_pred), axis = -1)\n",
    "    prob_constraint = Kb.square(Kb.sum(y_pred, axis = -1)\n",
    "                                - Kb.sum(y_true, axis = -1))\n",
    "\n",
    "    return(binary_crossentropy+prob_constraint)"
   ]
  },
  {
   "cell_type": "markdown",
   "id": "60099a37",
   "metadata": {},
   "source": [
    "# simple NN model"
   ]
  },
  {
   "cell_type": "code",
   "execution_count": 8,
   "id": "d674d4a9",
   "metadata": {},
   "outputs": [
    {
     "name": "stdout",
     "output_type": "stream",
     "text": [
      "['Winner' 'F_home_assists' 'F_home_goals' 'F_home_pim' 'F_home_shots'\n",
      " 'F_home_blocked' 'F_home_pm' 'D_home_assists' 'D_home_goals' 'D_home_pim'\n",
      " 'D_home_shots' 'D_home_blocked' 'D_home_hits' 'D_home_pm' 'G_home_GAA'\n",
      " 'F_away_assists' 'F_away_goals' 'F_away_pim' 'F_away_shots'\n",
      " 'F_away_blocked' 'F_away_hits' 'F_away_pm' 'D_away_assists'\n",
      " 'D_away_goals' 'D_away_pim' 'D_away_shots' 'D_away_blocked' 'D_away_hits'\n",
      " 'D_away_pm' 'G_away_GAA' 'F_home_hits' 'W_H' 'L_H' 'GA_H' 'SAT%_H'\n",
      " 'TA/GA_H' 'W_A' 'L_A' 'GA_A' 'SAT%_A' 'TA/GA_A']\n",
      "41\n"
     ]
    }
   ],
   "source": [
    "# see_column = np.array(['PTS', 'W','L', 'GF', 'GA', 'SRS', \n",
    "#                                   'SOS', 'PK%', 'S%', 'SV%', 'SAT%', \n",
    "#                                   'MsS', 'TA/GA'])\n",
    "see_column = np.array(['W', 'L', 'GA', 'SAT%', 'TA/GA'])\n",
    "\n",
    "see_column2 = np.array(['Winner',\n",
    "                       'F_home_assists', 'F_home_goals', 'F_home_pim', 'F_home_shots',\n",
    "                       'F_home_blocked', 'F_home_pm', 'D_home_assists', 'D_home_goals',\n",
    "                       'D_home_pim', 'D_home_shots', 'D_home_blocked', 'D_home_hits',\n",
    "                       'D_home_pm', 'G_home_GAA', 'F_away_assists', 'F_away_goals',\n",
    "                       'F_away_pim', 'F_away_shots', 'F_away_blocked', 'F_away_hits',\n",
    "                       'F_away_pm', 'D_away_assists', 'D_away_goals', 'D_away_pim',\n",
    "                       'D_away_shots', 'D_away_blocked', 'D_away_hits', 'D_away_pm',\n",
    "                       'G_away_GAA', 'F_home_hits'])\n",
    "\n",
    "\n",
    "column_home = np.array([i+'_H' for i in see_column])\n",
    "column_away = np.array([i+'_A' for i in see_column])\n",
    "\n",
    "column_name = np.concatenate((column_home,column_away))\n",
    "\n",
    "column_name = np.concatenate((see_column2,column_name))\n",
    "#  column_name = np.concatenate((column_name,['class'])) # Winner is the class\n",
    "\n",
    "# ## only consider tm data\n",
    "# column_home = np.array([i+'_H' for i in see_column])\n",
    "# column_away = np.array([i+'_A' for i in see_column])\n",
    "# column_name = np.concatenate((column_home,column_away))\n",
    "# column_name = np.concatenate((['Winner'],column_name)) # Winner is the class\n",
    "\n",
    "# ## only consider players data\n",
    "# column_name = see_column2\n",
    "\n",
    "print(column_name)\n",
    "print(len(column_name))"
   ]
  },
  {
   "cell_type": "markdown",
   "id": "4284648c",
   "metadata": {},
   "source": [
    "#### Train NN model"
   ]
  },
  {
   "cell_type": "code",
   "execution_count": 9,
   "id": "51ce4fbf",
   "metadata": {},
   "outputs": [
    {
     "data": {
      "text/html": [
       "<div>\n",
       "<style scoped>\n",
       "    .dataframe tbody tr th:only-of-type {\n",
       "        vertical-align: middle;\n",
       "    }\n",
       "\n",
       "    .dataframe tbody tr th {\n",
       "        vertical-align: top;\n",
       "    }\n",
       "\n",
       "    .dataframe thead th {\n",
       "        text-align: right;\n",
       "    }\n",
       "</style>\n",
       "<table border=\"1\" class=\"dataframe\">\n",
       "  <thead>\n",
       "    <tr style=\"text-align: right;\">\n",
       "      <th></th>\n",
       "      <th>Winner</th>\n",
       "      <th>F_home_assists</th>\n",
       "      <th>F_home_goals</th>\n",
       "      <th>F_home_pim</th>\n",
       "      <th>F_home_shots</th>\n",
       "      <th>F_home_blocked</th>\n",
       "      <th>F_home_pm</th>\n",
       "      <th>D_home_assists</th>\n",
       "      <th>D_home_goals</th>\n",
       "      <th>D_home_pim</th>\n",
       "      <th>...</th>\n",
       "      <th>W_H</th>\n",
       "      <th>L_H</th>\n",
       "      <th>GA_H</th>\n",
       "      <th>SAT%_H</th>\n",
       "      <th>TA/GA_H</th>\n",
       "      <th>W_A</th>\n",
       "      <th>L_A</th>\n",
       "      <th>GA_A</th>\n",
       "      <th>SAT%_A</th>\n",
       "      <th>TA/GA_A</th>\n",
       "    </tr>\n",
       "  </thead>\n",
       "  <tbody>\n",
       "    <tr>\n",
       "      <th>9336</th>\n",
       "      <td>0</td>\n",
       "      <td>1.006847</td>\n",
       "      <td>0.68976</td>\n",
       "      <td>1.74293</td>\n",
       "      <td>7.149183</td>\n",
       "      <td>1.994861</td>\n",
       "      <td>0.261621</td>\n",
       "      <td>0.899206</td>\n",
       "      <td>0.308675</td>\n",
       "      <td>1.517525</td>\n",
       "      <td>...</td>\n",
       "      <td>0.573171</td>\n",
       "      <td>0.304878</td>\n",
       "      <td>2.463415</td>\n",
       "      <td>52.8</td>\n",
       "      <td>0.874309</td>\n",
       "      <td>0.280488</td>\n",
       "      <td>0.621951</td>\n",
       "      <td>3.280488</td>\n",
       "      <td>37.5</td>\n",
       "      <td>0.787197</td>\n",
       "    </tr>\n",
       "  </tbody>\n",
       "</table>\n",
       "<p>1 rows × 41 columns</p>\n",
       "</div>"
      ],
      "text/plain": [
       "      Winner  F_home_assists  F_home_goals  F_home_pim  F_home_shots  \\\n",
       "9336       0        1.006847       0.68976     1.74293      7.149183   \n",
       "\n",
       "      F_home_blocked  F_home_pm  D_home_assists  D_home_goals  D_home_pim  \\\n",
       "9336        1.994861   0.261621        0.899206      0.308675    1.517525   \n",
       "\n",
       "      ...       W_H       L_H      GA_H  SAT%_H   TA/GA_H       W_A       L_A  \\\n",
       "9336  ...  0.573171  0.304878  2.463415    52.8  0.874309  0.280488  0.621951   \n",
       "\n",
       "          GA_A  SAT%_A   TA/GA_A  \n",
       "9336  3.280488    37.5  0.787197  \n",
       "\n",
       "[1 rows x 41 columns]"
      ]
     },
     "execution_count": 9,
     "metadata": {},
     "output_type": "execute_result"
    }
   ],
   "source": [
    "tm_players = pd.read_csv('tm_player_stats_2005_2021.csv')\n",
    "\n",
    "tm_players[column_name].sample(1)"
   ]
  },
  {
   "cell_type": "code",
   "execution_count": 10,
   "id": "5fefb9d2",
   "metadata": {},
   "outputs": [],
   "source": [
    "playoff = pd.read_csv('playoff_stats_2005_2021.csv')\n",
    "playoff_test = playoff[:-87]\n",
    "playoff_pred = playoff[1436:1509]"
   ]
  },
  {
   "cell_type": "code",
   "execution_count": 11,
   "id": "68d4295a",
   "metadata": {},
   "outputs": [
    {
     "name": "stdout",
     "output_type": "stream",
     "text": [
      "0.45341645885286785\n"
     ]
    }
   ],
   "source": [
    "Traindf = tm_players[column_name]\n",
    "TrainX_array = Traindf[column_name[1:]].to_numpy()\n",
    "TrainY_array = Traindf[column_name[0]].to_numpy()\n",
    "print(sum(TrainY_array)/len(TrainY_array))\n",
    "\n",
    "Testdf = playoff_test[column_name]\n",
    "TestX_array = Testdf[column_name[1:]].to_numpy()\n",
    "TestY_array = Testdf[column_name[0]].to_numpy()\n",
    "y_test = TestY_array\n",
    "\n",
    "Preddf = playoff_pred[column_name]\n",
    "PredX_array = Preddf[column_name[1:]].to_numpy()\n",
    "y_pred = Preddf[column_name[0]].to_numpy()\n"
   ]
  },
  {
   "cell_type": "code",
   "execution_count": 12,
   "id": "fe19763c",
   "metadata": {},
   "outputs": [
    {
     "name": "stdout",
     "output_type": "stream",
     "text": [
      "X shape (20050, 40)\n"
     ]
    }
   ],
   "source": [
    "# X_train, X_test, y_train, y_test = Train_Test_XY_normalize_PCA(TrainX_array, \n",
    "#                                                                TrainY_array)\n",
    "\n",
    "X_train, X_val, y_train, y_val, [X_pred, X_test] = Train_Test_XY_normalize_PCA(TrainX_array, \n",
    "                                                                    TrainY_array, \n",
    "                                                                   # TestX_array)                                                                     \n",
    "                                                                    [PredX_array, TestX_array])"
   ]
  },
  {
   "cell_type": "code",
   "execution_count": 13,
   "id": "9b429cbf",
   "metadata": {},
   "outputs": [],
   "source": [
    "def NN_TF_model(structure, ipt_dim, learning_rate=0.01, drop_rate = None):\n",
    "    model=Sequential()\n",
    "    print(f'structure = {structure}, learning_rate = {learning_rate}')\n",
    "    model.add(layers.Dense(structure[0], input_shape=(ipt_dim,), activation='relu'))\n",
    "    if drop_rate != None:\n",
    "        print(f'drop_rate = {drop_rate}')\n",
    "        model.add(layers.Dropout(rate = drop_rate, input_shape=(structure[0],)))\n",
    "    \n",
    "    for i in range(len(structure)-1):\n",
    "        model.add(layers.Dense(structure[i+1], activation='relu'))\n",
    "        if drop_rate != None:\n",
    "            model.add(layers.Dropout(rate = drop_rate, input_shape=(structure[i+1],)))\n",
    "        \n",
    "    model.add(layers.Dense(1, activation='sigmoid'))\n",
    "\n",
    "    opt = optimizers.SGD(learning_rate=learning_rate)\n",
    "#     opt = optimizers.Adam(learning_rate=learning_rate)\n",
    "    # opt = optimizers.Nadam(learning_rate=learning_rate)\n",
    "\n",
    "    # model.compile(loss='mean_squared_error', optimizer=opt)\n",
    "    model.compile(loss='binary_crossentropy', optimizer=opt, metrics=['accuracy'])\n",
    "    # model.compile(loss=custom_loss, optimizer=opt)\n",
    "    # model.compile(loss='huber', optimizer=opt)\n",
    "    # model.compile(loss='binary_focal_crossentropy', optimizer=opt)\n",
    "    print(model.summary())\n",
    "    \n",
    "    return model"
   ]
  },
  {
   "cell_type": "code",
   "execution_count": 14,
   "id": "3a6ffe81",
   "metadata": {},
   "outputs": [],
   "source": [
    "def NN_prototype(X_train, \n",
    "                 y_train,\n",
    "                 val_set,\n",
    "                 structure, \n",
    "                 epoch = 300, \n",
    "                 b_size = 100,\n",
    "                 learning_rate = 0.01,\n",
    "                 drop_rate = None):\n",
    "    #creating unique name for tensorboard directory\n",
    "    log_dir = \"logs/NN/\" + datetime.datetime.now().strftime(\"%Y%m%d-%H%M%S\")\n",
    "    #Tensforboard callback function\n",
    "    tensorboard_callback = tf.keras.callbacks.TensorBoard(log_dir=log_dir, histogram_freq=1)\n",
    "    print()\n",
    "    print()\n",
    "    print()\n",
    "    print('Now working with:',log_dir)\n",
    "    print(f'epoch number = {epoch}, batch_size = {b_size}')\n",
    "    struct = structure\n",
    "    dim = X_train.shape[1]\n",
    "    model = NN_TF_model(structure = structure, ipt_dim = dim, learning_rate = learning_rate, drop_rate = drop_rate)\n",
    "    history = model.fit(X_train,\n",
    "                      y_train,\n",
    "                      epochs=epoch,\n",
    "                      batch_size=b_size,\n",
    "                      shuffle=True,\n",
    "                      validation_data=val_set,\n",
    "                      callbacks=[tensorboard_callback],\n",
    "                      verbose=0)\n",
    "    ## split the validation set with test_train_split method\n",
    "    # validation_split = 0.2,\n",
    "    return model, history"
   ]
  },
  {
   "cell_type": "code",
   "execution_count": 15,
   "id": "5ac2ceda",
   "metadata": {},
   "outputs": [],
   "source": [
    "def plot_accuracy(model, history):\n",
    "#     model.test_on_batch(X_test, y_test)\n",
    "#     model.metrics_names\n",
    "    print(history.history.keys())\n",
    "    acc = history.history['accuracy']\n",
    "    val_acc = history.history['val_accuracy']\n",
    "    loss = history.history['loss']\n",
    "    val_loss = history.history['val_loss']\n",
    "\n",
    "    epochs = range(1, len(acc) + 1)\n",
    "\n",
    "    plt.plot(epochs, acc, 'b.', label='Training acc')\n",
    "    plt.plot(epochs, val_acc, 'g', label='Validation acc')\n",
    "    plt.title('Training and validation accuracy')\n",
    "    plt.legend()\n",
    "\n",
    "    # plt.figure()\n",
    "\n",
    "    # plt.plot(epochs, loss, 'b.', label='Training loss')\n",
    "    # plt.plot(epochs, val_loss, 'g', label='Validation loss')\n",
    "    # plt.title('Training and validation loss')\n",
    "    # plt.legend()\n",
    "\n",
    "    plt.show()"
   ]
  },
  {
   "cell_type": "code",
   "execution_count": 16,
   "id": "01081838",
   "metadata": {},
   "outputs": [],
   "source": [
    "def train_test_confusionM(X_train, y_train, X_test, y_test,verbose = True):\n",
    "    m = metrics.Accuracy()\n",
    "    mc = metrics.CategoricalAccuracy()\n",
    "    \n",
    "    y_hat=model.predict(X_train)>0.5\n",
    "    y_hat=np.squeeze(y_hat)*1\n",
    "    m.update_state(y_train, y_hat)\n",
    "    mc.update_state(y_train, y_hat)\n",
    "    train_acc = m.result().numpy()\n",
    "    if verbose:\n",
    "        print('away win rate = ', sum(y_hat)/len(y_hat))\n",
    "#         print('Train data accuracy',train_acc)\n",
    "        # print('Train data categorical accuracy',mc.result().numpy())\n",
    "        print(tf.math.confusion_matrix(y_train, y_hat))\n",
    "\n",
    "    y_hat=model.predict(X_test)>0.5\n",
    "    y_hat=np.squeeze(y_hat)*1\n",
    "    \n",
    "    m.update_state(y_test, y_hat)\n",
    "    test_acc = m.result().numpy()\n",
    "    if verbose:\n",
    "        print('away win rate = ',sum(y_hat)/len(y_hat))\n",
    "#         print('Test data accuracy',m.result().numpy())\n",
    "        print(tf.math.confusion_matrix(y_test, y_hat))\n",
    "    \n",
    "    return train_acc,test_acc "
   ]
  },
  {
   "cell_type": "markdown",
   "id": "90750847",
   "metadata": {},
   "source": [
    "# after several different runs of NN, I might go with this structure\n",
    "* structure: [10, 5]\n",
    "* epoch = 600\n",
    "* learning_rate = 0.01\n",
    "* drop_rate = 0.2"
   ]
  },
  {
   "cell_type": "code",
   "execution_count": 17,
   "id": "925cde8c",
   "metadata": {},
   "outputs": [
    {
     "name": "stdout",
     "output_type": "stream",
     "text": [
      "\n",
      "\n",
      "\n",
      "Now working with: logs/NN/20220603-131935\n",
      "epoch number = 600, batch_size = 100\n",
      "structure = [10, 5], learning_rate = 0.01\n",
      "drop_rate = 0.2\n",
      "Model: \"sequential\"\n",
      "_________________________________________________________________\n",
      " Layer (type)                Output Shape              Param #   \n",
      "=================================================================\n",
      " dense (Dense)               (None, 10)                410       \n",
      "                                                                 \n",
      " dropout (Dropout)           (None, 10)                0         \n",
      "                                                                 \n",
      " dense_1 (Dense)             (None, 5)                 55        \n",
      "                                                                 \n",
      " dropout_1 (Dropout)         (None, 5)                 0         \n",
      "                                                                 \n",
      " dense_2 (Dense)             (None, 1)                 6         \n",
      "                                                                 \n",
      "=================================================================\n",
      "Total params: 471\n",
      "Trainable params: 471\n",
      "Non-trainable params: 0\n",
      "_________________________________________________________________\n",
      "None\n",
      "dict_keys(['loss', 'accuracy', 'val_loss', 'val_accuracy'])\n"
     ]
    },
    {
     "data": {
      "image/png": "[encoded data removed]",
      "text/plain": [
       "<Figure size 432x288 with 1 Axes>"
      ]
     },
     "metadata": {
      "needs_background": "light"
     },
     "output_type": "display_data"
    },
    {
     "name": "stdout",
     "output_type": "stream",
     "text": [
      "502/502 [==============================] - 0s 625us/step\n",
      "away win rate =  0.39320448877805486\n",
      "tf.Tensor(\n",
      "[[6285 2482]\n",
      " [3448 3825]], shape=(2, 2), dtype=int32)\n",
      "126/126 [==============================] - 0s 615us/step\n",
      "away win rate =  0.38902743142144636\n",
      "tf.Tensor(\n",
      "[[1587  605]\n",
      " [ 863  955]], shape=(2, 2), dtype=int32)\n",
      "Train data accuracy 0.63029927\n",
      "\n",
      "Validation data accuracy 0.63102245\n",
      "\n",
      "45/45 [==============================] - 0s 770us/step\n",
      "away win rate =  0.33612273361227335\n",
      "tf.Tensor(\n",
      "[[527 248]\n",
      " [425 234]], shape=(2, 2), dtype=int32)\n",
      "3/3 [==============================] - 0s 1ms/step\n",
      "away win rate =  0.3424657534246575\n",
      "tf.Tensor(\n",
      "[[30 14]\n",
      " [18 11]], shape=(2, 2), dtype=int32)\n",
      "Test data accuracy 0.5306834\n",
      "\n",
      "Pred data accuracy 0.5321832\n"
     ]
    }
   ],
   "source": [
    "structures_list = [[10, 5]]\n",
    "epoch_list = np.array([600])\n",
    "learning_rate_list = np.array([0.01])\n",
    "\n",
    "for s in structures_list:\n",
    "    for e in epoch_list:\n",
    "        for l in learning_rate_list:\n",
    "            model, history = NN_prototype(X_train, \n",
    "                                          y_train,\n",
    "                                          (X_val, y_val),\n",
    "                                          s, \n",
    "                                          epoch = e, \n",
    "                                          b_size = 100,\n",
    "                                          drop_rate = 0.2,\n",
    "                                          learning_rate = l)\n",
    "            \n",
    "            plot_accuracy(model, history)\n",
    "            train_acc, val_acc = train_test_confusionM(X_train, \n",
    "                                                        y_train, \n",
    "                                                        X_val, \n",
    "                                                        y_val,\n",
    "                                                        verbose = True)\n",
    "            \n",
    "            print('Train data accuracy',train_acc)\n",
    "            print()\n",
    "            print('Validation data accuracy',val_acc)\n",
    "            print()\n",
    "            test_acc, pred_acc = train_test_confusionM(X_test, \n",
    "                                                        y_test,\n",
    "                                                        X_pred, \n",
    "                                                        y_pred,\n",
    "                                                        verbose = True)\n",
    "            print('Test data accuracy',test_acc)\n",
    "            print()\n",
    "            print('Pred data accuracy',pred_acc)"
   ]
  },
  {
   "cell_type": "code",
   "execution_count": 18,
   "id": "2cb5a557",
   "metadata": {},
   "outputs": [
    {
     "name": "stdout",
     "output_type": "stream",
     "text": [
      "3/3 [==============================] - 0s 2ms/step\n",
      "[0 0 1 0 0 0 1 1 0 0 1 0 0 0 0 0 0 1 0 1 0 1 0 0 0 0 0 0 1 1 1 0 0 0 0 0 0\n",
      " 0 0 1 0 0 1 1 1 0 0 0 0 0 0 1 0 0 0 1 0 1 1 0 1 1 1 0 1 0 1 0 1 0 1 0 0]\n"
     ]
    }
   ],
   "source": [
    "y_hat=model.predict(X_pred)>0.5\n",
    "y_hat=np.squeeze(y_hat)*1\n",
    "print(y_hat)"
   ]
  },
  {
   "cell_type": "code",
   "execution_count": 23,
   "id": "91010be3",
   "metadata": {},
   "outputs": [
    {
     "name": "stdout",
     "output_type": "stream",
     "text": [
      "     homeAbbrev awayAbbrev  Winner  Predict_winner\n",
      "1436        MIN        STL     1.0               0\n",
      "1437        EDM        LAK     1.0               0\n",
      "1438        NYR        PIT     1.0               1\n",
      "1439        FLA        WSH     1.0               0\n",
      "1440        COL        NSH     0.0               0\n",
      "1441        CGY        DAL     0.0               0\n",
      "1442        CAR        BOS     0.0               1\n",
      "1443        TOR        TBL     1.0               1\n",
      "1444        MIN        STL     0.0               0\n",
      "1445        EDM        LAK     0.0               0\n",
      "1446        NYR        PIT     0.0               1\n",
      "1447        FLA        WSH     0.0               0\n",
      "1448        COL        NSH     0.0               0\n",
      "1449        CGY        DAL     1.0               0\n",
      "1450        BOS        CAR     0.0               0\n",
      "1451        TBL        TOR     1.0               0\n",
      "1452        STL        MIN     1.0               0\n",
      "1453        LAK        EDM     1.0               1\n",
      "1454        WSH        FLA     0.0               0\n",
      "1455        NSH        COL     1.0               1\n",
      "1456        PIT        NYR     0.0               0\n",
      "1457        DAL        CGY     0.0               1\n",
      "1458        BOS        CAR     0.0               0\n",
      "1459        STL        MIN     0.0               0\n",
      "1460        TBL        TOR     0.0               0\n",
      "1461        LAK        EDM     0.0               0\n",
      "1462        WSH        FLA     1.0               0\n",
      "1463        PIT        NYR     0.0               0\n",
      "1464        NSH        COL     1.0               1\n",
      "1465        DAL        CGY     1.0               1\n",
      "1466        CAR        BOS     0.0               1\n",
      "1467        TOR        TBL     0.0               0\n",
      "1468        MIN        STL     1.0               0\n",
      "1469        EDM        LAK     1.0               0\n",
      "1470        NYR        PIT     0.0               0\n",
      "1471        FLA        WSH     0.0               0\n",
      "1472        CGY        DAL     0.0               0\n",
      "1473        BOS        CAR     0.0               0\n",
      "1474        TBL        TOR     0.0               0\n",
      "1475        STL        MIN     0.0               1\n",
      "1476        LAK        EDM     1.0               0\n",
      "1477        PIT        NYR     1.0               0\n",
      "1478        WSH        FLA     1.0               1\n",
      "1479        DAL        CGY     0.0               1\n",
      "1480        CAR        BOS     0.0               1\n",
      "1481        TOR        TBL     1.0               0\n",
      "1482        EDM        LAK     0.0               0\n",
      "1483        NYR        PIT     0.0               0\n",
      "1484        CGY        DAL     0.0               0\n",
      "1485        FLA        TBL     1.0               0\n",
      "1486        COL        STL     0.0               0\n",
      "1487        CAR        NYR     0.0               1\n",
      "1488        CGY        EDM     0.0               0\n",
      "1489        FLA        TBL     1.0               0\n",
      "1490        COL        STL     1.0               0\n",
      "1491        CAR        NYR     0.0               1\n",
      "1492        CGY        EDM     1.0               0\n",
      "1493        STL        COL     1.0               1\n",
      "1494        TBL        FLA     0.0               1\n",
      "1495        NYR        CAR     0.0               0\n",
      "1496        EDM        CGY     0.0               1\n",
      "1497        TBL        FLA     0.0               1\n",
      "1498        STL        COL     1.0               1\n",
      "1499        NYR        CAR     0.0               0\n",
      "1500        EDM        CGY     0.0               1\n",
      "1501        COL        STL     1.0               0\n",
      "1502        CAR        NYR     0.0               1\n",
      "1503        CGY        EDM     1.0               0\n",
      "1504        STL        COL     1.0               1\n",
      "1505        NYR        CAR     0.0               0\n",
      "1506        CAR        NYR     1.0               1\n",
      "1507        COL        EDM     0.0               0\n",
      "1508        NYR        TBL     0.0               0\n"
     ]
    },
    {
     "name": "stderr",
     "output_type": "stream",
     "text": [
      "/var/folders/4d/xm0qnc311dxdk482_sb4k01h0000gn/T/ipykernel_6482/3387907331.py:1: SettingWithCopyWarning: \n",
      "A value is trying to be set on a copy of a slice from a DataFrame.\n",
      "Try using .loc[row_indexer,col_indexer] = value instead\n",
      "\n",
      "See the caveats in the documentation: https://pandas.pydata.org/pandas-docs/stable/user_guide/indexing.html#returning-a-view-versus-a-copy\n",
      "  playoff_pred['Predict_winner'] = y_hat\n"
     ]
    }
   ],
   "source": [
    "playoff_pred['Predict_winner'] = y_hat\n",
    "df = playoff_pred[['homeAbbrev', 'awayAbbrev', 'Winner', 'Predict_winner']]\n",
    "print(df.to_string())"
   ]
  },
  {
   "cell_type": "code",
   "execution_count": null,
   "id": "05da70a1",
   "metadata": {},
   "outputs": [],
   "source": []
  }
 ],
 "metadata": {
  "kernelspec": {
   "display_name": "Python 3 (ipykernel)",
   "language": "python",
   "name": "python3"
  },
  "language_info": {
   "codemirror_mode": {
    "name": "ipython",
    "version": 3
   },
   "file_extension": ".py",
   "mimetype": "text/x-python",
   "name": "python",
   "nbconvert_exporter": "python",
   "pygments_lexer": "ipython3",
   "version": "3.9.12"
  }
 },
 "nbformat": 4,
 "nbformat_minor": 5
}
