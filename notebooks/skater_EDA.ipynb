{
 "cells": [
  {
   "cell_type": "code",
   "execution_count": 1,
   "id": "034a5bff",
   "metadata": {},
   "outputs": [],
   "source": [
    "import pandas as pd\n",
    "import numpy as np\n",
    "import matplotlib.pyplot as plt\n",
    "import os"
   ]
  },
  {
   "cell_type": "code",
   "execution_count": 5,
   "id": "43f4004f",
   "metadata": {},
   "outputs": [],
   "source": [
    "skater_folder = \"../skaters/\"\n",
    "skater_files = os.listdir(skater_folder)\n",
    "team_folder = \"../tmstats/\"\n",
    "team_files = os.listdir(team_folder)"
   ]
  },
  {
   "cell_type": "code",
   "execution_count": null,
   "id": "402fe20b",
   "metadata": {},
   "outputs": [],
   "source": []
  }
 ],
 "metadata": {
  "kernelspec": {
   "display_name": "Python 3 (ipykernel)",
   "language": "python",
   "name": "python3"
  },
  "language_info": {
   "codemirror_mode": {
    "name": "ipython",
    "version": 3
   },
   "file_extension": ".py",
   "mimetype": "text/x-python",
   "name": "python",
   "nbconvert_exporter": "python",
   "pygments_lexer": "ipython3",
   "version": "3.9.12"
  }
 },
 "nbformat": 4,
 "nbformat_minor": 5
}
